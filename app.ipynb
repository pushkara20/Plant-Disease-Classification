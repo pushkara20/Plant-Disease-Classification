{
 "cells": [
  {
   "cell_type": "code",
   "execution_count": 1,
   "metadata": {},
   "outputs": [
    {
     "name": "stderr",
     "output_type": "stream",
     "text": [
      "Using TensorFlow backend.\n"
     ]
    }
   ],
   "source": [
    "from flask import *\n",
    "import os\n",
    "from werkzeug.utils import secure_filename\n",
    "from keras.models import load_model\n",
    "import numpy as np\n",
    "from PIL import Image\n",
    "app = Flask(__name__)"
   ]
  },
  {
   "cell_type": "code",
   "execution_count": 2,
   "metadata": {},
   "outputs": [],
   "source": [
    "classes = {\n",
    "    0: 'CORN PLANT LEAF CONDITION: CORN GRAY LEAF SPOT, \\n Reason: Grey leaf spot (GLS) is a foliar fungal disease that affects corn. \\n Symptoms: Symptoms first appear on lower leaves about two to three weeks before tasseling. \\n Disease Management: Crop rotation, Resistant varieties, Residue management, Weed Control, and Fungicides like Headline EC, Quilt , Proline 480 SC, Tilt 250 E, Bumper 418 EC.\\n',\n",
    "    1: 'CORN PLANT LEAF CONDITION: CORN RUST. \\n Reason: rust is caused by the fungus Puccinia sorghi. \\n Symptoms: chlorotic flecks on the leaf surface. Younger leaves are more susceptible to infection, \\n Disease Managment: use of resistant maize hybrids, foliar application of fungicide and cultural control, Early planting time can help avoid P. sorghi. Debris should be collected and destroyed by burning along with eradication of Oxalis in surrounding areas. \\n ',\n",
    "    2: 'CORN PLANT LEAF CONDITION: CORN HEALTHY, \\n Techniques and methods redarding how to yield corn crop more: Plant Early, Plant Effectively, Practice Seasonal Soil Rotation, Know The Yield Potential, Always Scout the Fields, Ensure Proper Water Drainage, Utilize Fertilizers, Test the Soil, Weed Early and Often, Seed Quality.\\n',\n",
    "    3: 'CORN PLANT LEAF CONDITION: NORTHEN CORN LEAF BLIGHT (NCLB). \\n Reason: It is a foliar disease of corn caused by Exserohilum turcicum.\\n Symptoms: cigar-shaped or elliptical necrotic gray-green lesions on the leaves that range from one to seven inches long. \\n Disease Management: Preventative management strategies, Different cropping practices, fungicides, Scouting fields and monitoring local conditions, managing weeds, 1-2 year rotation of corn. \\n',\n",
    "    4: 'POTATO PLANT LEAF CONDITION: POTATO EARLY BLIGHT, \\n Reason: Alternaria solani is a fungal pathogen that produces a disease in potato plants called early blight, \\n Disease Management: Cultural control like: Clearing infected debris, Watering the plants at the right time and certain amount of it, drip irrigation system, controling the wild population of Solanaceae, Monitoring the field. Chemical control: pyraclostrobin, Bacillus subtilis, chlorothalonil, copper products.',\n",
    "    5: 'POTATO PLANT LEAF CONDITION: POTATO HEALTHY, \\n Techniques and methods redarding how to yield potato crop more: Plant Early, Plant Effectively, Practice Seasonal Soil Rotation, Know The Yield Potential, Always Scout the Fields, Ensure Proper Water Drainage, Utilize Fertilizers, Test the Soil, Weed Early and Often, Seed Quality. \\n',\n",
    "    6: 'POTATO PLANT LEAF CONDITION: POTATO LATE BLIGHT, \\n Reason: Phytophthora infestans is an oomycete or water mold, a microorganism that causes the serious potato known as late blight or potato blight, \\n Disease Management: Reducing inoculum, Environmental conditions, Use of fungicides, Control of tuber blight.\\n'}\n"
   ]
  },
  {
   "cell_type": "code",
   "execution_count": 3,
   "metadata": {},
   "outputs": [],
   "source": [
    "def image_processing(img):\n",
    "    model = load_model('C:\\\\Users\\\\Priyanka\\\\Desktop\\\\6th_sem_project\\\\LDR_try2.h5')\n",
    "    data = []\n",
    "    image = Image.open(img)\n",
    "    image = image.resize((30, 30))\n",
    "    data.append(np.array(image))\n",
    "    X_test = np.array(data)\n",
    "    Y_pred = model.predict_classes(X_test)\n",
    "    return Y_pred\n"
   ]
  },
  {
   "cell_type": "code",
   "execution_count": 4,
   "metadata": {},
   "outputs": [],
   "source": [
    "@app.route('/')\n",
    "def index():\n",
    "    return render_template('index.html')\n"
   ]
  },
  {
   "cell_type": "code",
   "execution_count": null,
   "metadata": {},
   "outputs": [
    {
     "name": "stdout",
     "output_type": "stream",
     "text": [
      " * Serving Flask app '__main__' (lazy loading)\n",
      " * Environment: production\n",
      "\u001b[31m   WARNING: This is a development server. Do not use it in a production deployment.\u001b[0m\n",
      "\u001b[2m   Use a production WSGI server instead.\u001b[0m\n",
      " * Debug mode: off\n"
     ]
    },
    {
     "name": "stderr",
     "output_type": "stream",
     "text": [
      " * Running on all addresses.\n",
      "   WARNING: This is a development server. Do not use it in a production deployment.\n",
      " * Running on http://192.168.29.248:8080/ (Press CTRL+C to quit)\n",
      "[2021-06-10 21:14:34,880] ERROR in app: Exception on / [GET]\n",
      "Traceback (most recent call last):\n",
      "  File \"c:\\python\\lib\\site-packages\\flask\\app.py\", line 2070, in wsgi_app\n",
      "    response = self.full_dispatch_request()\n",
      "  File \"c:\\python\\lib\\site-packages\\flask\\app.py\", line 1515, in full_dispatch_request\n",
      "    rv = self.handle_user_exception(e)\n",
      "  File \"c:\\python\\lib\\site-packages\\flask\\app.py\", line 1513, in full_dispatch_request\n",
      "    rv = self.dispatch_request()\n",
      "  File \"c:\\python\\lib\\site-packages\\flask\\app.py\", line 1499, in dispatch_request\n",
      "    return self.ensure_sync(self.view_functions[rule.endpoint])(**req.view_args)\n",
      "  File \"<ipython-input-4-daee9230b51e>\", line 3, in index\n",
      "    return render_template('index.html')\n",
      "  File \"c:\\python\\lib\\site-packages\\flask\\templating.py\", line 148, in render_template\n",
      "    ctx.app.jinja_env.get_or_select_template(template_name_or_list),\n",
      "  File \"c:\\python\\lib\\site-packages\\jinja2\\environment.py\", line 1068, in get_or_select_template\n",
      "    return self.get_template(template_name_or_list, parent, globals)\n",
      "  File \"c:\\python\\lib\\site-packages\\jinja2\\environment.py\", line 997, in get_template\n",
      "    return self._load_template(name, globals)\n",
      "  File \"c:\\python\\lib\\site-packages\\jinja2\\environment.py\", line 958, in _load_template\n",
      "    template = self.loader.load(self, name, self.make_globals(globals))\n",
      "  File \"c:\\python\\lib\\site-packages\\jinja2\\loaders.py\", line 125, in load\n",
      "    source, filename, uptodate = self.get_source(environment, name)\n",
      "  File \"c:\\python\\lib\\site-packages\\flask\\templating.py\", line 59, in get_source\n",
      "    return self._get_source_fast(environment, template)\n",
      "  File \"c:\\python\\lib\\site-packages\\flask\\templating.py\", line 95, in _get_source_fast\n",
      "    raise TemplateNotFound(template)\n",
      "jinja2.exceptions.TemplateNotFound: index.html\n",
      "192.168.29.248 - - [10/Jun/2021 21:14:34] \"GET / HTTP/1.1\" 500 -\n"
     ]
    }
   ],
   "source": [
    "@app.route('/predict', methods=['GET', 'POST'])\n",
    "def upload():\n",
    "    if request.method == 'POST':\n",
    "        f = request.files['file']\n",
    "        file_path = secure_filename(f.filename)\n",
    "        f.save(file_path)\n",
    "        result = image_processing(file_path)\n",
    "        s = [str(i) for i in result]\n",
    "        a = int(\"\".join(s))\n",
    "        #result = \"Predicted Leaf Disease is:--  \" + classes[a]\n",
    "        result = \"\" + classes[a]\n",
    "        os.remove(file_path)\n",
    "        return result\n",
    "    return None\n",
    "\n",
    "\n",
    "if __name__ == '__main__':\n",
    "    #app.run(debug=True)\n",
    "    app.run(host='0.0.0.0', port=8085)\n"
   ]
  },
  {
   "cell_type": "code",
   "execution_count": null,
   "metadata": {},
   "outputs": [],
   "source": []
  }
 ],
 "metadata": {
  "kernelspec": {
   "display_name": "Python 3",
   "language": "python",
   "name": "python3"
  },
  "language_info": {
   "codemirror_mode": {
    "name": "ipython",
    "version": 3
   },
   "file_extension": ".py",
   "mimetype": "text/x-python",
   "name": "python",
   "nbconvert_exporter": "python",
   "pygments_lexer": "ipython3",
   "version": "3.7.7"
  }
 },
 "nbformat": 4,
 "nbformat_minor": 4
}
